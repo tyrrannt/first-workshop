{
 "cells": [
  {
   "cell_type": "code",
   "id": "initial_id",
   "metadata": {
    "collapsed": true,
    "ExecuteTime": {
     "end_time": "2025-06-27T11:50:52.021342Z",
     "start_time": "2025-06-27T11:50:51.916073Z"
    }
   },
   "source": [
    "from app.config import TEST_PATH, MODEL_PATH, FEATURES_PATH, THRESHOLD_PATH\n",
    "import pandas as pd\n",
    "import joblib\n",
    "from app.preprocessing import preprocess, feature_engineering\n",
    "\n",
    "df = pd.read_csv(TEST_PATH)\n",
    "df = preprocess(df)\n",
    "df = feature_engineering(df)\n",
    "\n",
    "model = joblib.load(MODEL_PATH)\n",
    "threshold = joblib.load(THRESHOLD_PATH)\n",
    "features = joblib.load(FEATURES_PATH)\n",
    "\n",
    "X = df[features]\n",
    "probs = model.predict_proba(X)[:, 1]\n",
    "preds = (probs > threshold).astype(int)\n",
    "\n",
    "df[\"Prediction\"] = preds\n",
    "df[[\"Prediction\"]].value_counts()\n"
   ],
   "outputs": [
    {
     "data": {
      "text/plain": [
       "Prediction\n",
       "1             870\n",
       "0              65\n",
       "Name: count, dtype: int64"
      ]
     },
     "execution_count": 3,
     "metadata": {},
     "output_type": "execute_result"
    }
   ],
   "execution_count": 3
  },
  {
   "metadata": {},
   "cell_type": "code",
   "outputs": [],
   "execution_count": null,
   "source": "",
   "id": "5ce49f7e60af6d00"
  }
 ],
 "metadata": {
  "kernelspec": {
   "display_name": "Python 3",
   "language": "python",
   "name": "python3"
  },
  "language_info": {
   "codemirror_mode": {
    "name": "ipython",
    "version": 2
   },
   "file_extension": ".py",
   "mimetype": "text/x-python",
   "name": "python",
   "nbconvert_exporter": "python",
   "pygments_lexer": "ipython2",
   "version": "2.7.6"
  }
 },
 "nbformat": 4,
 "nbformat_minor": 5
}
